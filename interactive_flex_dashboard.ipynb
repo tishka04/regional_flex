{
 "cells": [
  {
   "cell_type": "code",
   "execution_count": 1,
   "id": "ede42345",
   "metadata": {},
   "outputs": [
    {
     "data": {
      "application/vnd.jupyter.widget-view+json": {
       "model_id": "ba49bd6b047e49e991c14e9defe0bbaa",
       "version_major": 2,
       "version_minor": 0
      },
      "text/plain": [
       "SelectionRangeSlider(description='Date Range', index=(0, 17472), layout=Layout(width='95%'), options=('2022-01…"
      ]
     },
     "metadata": {},
     "output_type": "display_data"
    },
    {
     "data": {
      "application/vnd.jupyter.widget-view+json": {
       "model_id": "70aff76da5474abfa2f472a986cdb818",
       "version_major": 2,
       "version_minor": 0
      },
      "text/plain": [
       "Dropdown(description='Région', index=2, options=('Auvergne_Rhone_Alpes', 'Nouvelle_Aquitaine', 'Occitanie', 'P…"
      ]
     },
     "metadata": {},
     "output_type": "display_data"
    },
    {
     "data": {
      "application/vnd.jupyter.widget-view+json": {
       "model_id": "8199ea2e156e467eab377d1beaf22b3c",
       "version_major": 2,
       "version_minor": 0
      },
      "text/plain": [
       "Output()"
      ]
     },
     "execution_count": 1,
     "metadata": {},
     "output_type": "execute_result"
    }
   ],
   "source": [
    "import pandas as pd\n",
    "import plotly.express as px\n",
    "import plotly.graph_objects as go\n",
    "import ipywidgets as widgets\n",
    "from IPython.display import display\n",
    "import numpy as np\n",
    "\n",
    "# Load the dataset\n",
    "df = pd.read_csv(\"full_year.csv\", parse_dates=[\"timestamp\"])\n",
    "df.set_index(\"timestamp\", inplace=True)\n",
    "\n",
    "# Define available regions\n",
    "regions = [\"Auvergne_Rhone_Alpes\", \"Nouvelle_Aquitaine\", \"Occitanie\", \"Provence_Alpes_Cote_dAzur\"]\n",
    "\n",
    "# Create interactive widgets\n",
    "date_range = widgets.SelectionRangeSlider(\n",
    "    options=[d.strftime(\"%Y-%m-%d %H:%M:%S\") for d in df.index.unique()],\n",
    "    index=(0, len(df.index.unique()) - 1),\n",
    "    description='Date Range',\n",
    "    layout={'width': '95%'}\n",
    ")\n",
    "\n",
    "region_selector = widgets.Dropdown(\n",
    "    options=regions,\n",
    "    value=\"Occitanie\",\n",
    "    description='Région'\n",
    ")\n",
    "\n",
    "# Display widgets\n",
    "display(date_range, region_selector)\n",
    "\n",
    "def plot_all(date_range, region):\n",
    "    start, end = pd.to_datetime(date_range)\n",
    "    dff = df.loc[start:end].copy()\n",
    "\n",
    "    # Mix de production\n",
    "    prod_cols = [col for col in df.columns if col.startswith(\"dispatch_\") and col.endswith(region)]\n",
    "    fig1 = px.area(dff, y=prod_cols, title=f\"Mix de production - {region}\")\n",
    "    fig1.show()\n",
    "\n",
    "    # Stockage\n",
    "    soc_cols = [f\"storage_soc_STEP_{region}\", f\"storage_soc_batteries_{region}\"]\n",
    "    charge_cols = [f\"storage_charge_STEP_{region}\", f\"storage_charge_batteries_{region}\"]\n",
    "    discharge_cols = [f\"storage_discharge_STEP_{region}\", f\"storage_discharge_batteries_{region}\"]\n",
    "    fig2 = go.Figure()\n",
    "    for col in soc_cols:\n",
    "        fig2.add_trace(go.Scatter(x=dff.index, y=dff[col], mode='lines', name=col))\n",
    "    fig2.update_layout(title=f\"État de charge - {region}\")\n",
    "    fig2.show()\n",
    "\n",
    "    fig3 = go.Figure()\n",
    "    for col in charge_cols + discharge_cols:\n",
    "        fig3.add_trace(go.Scatter(x=dff.index, y=dff[col], mode='lines', name=col))\n",
    "    fig3.update_layout(title=f\"Charge et décharge - {region}\")\n",
    "    fig3.show()\n",
    "\n",
    "    # DR\n",
    "    fig4 = go.Figure()\n",
    "    fig4.add_trace(go.Scatter(x=dff.index, y=dff[f\"demand_response_{region}\"], mode='lines', name=\"Potentiel DR\"))\n",
    "    fig4.add_trace(go.Scatter(x=dff.index, y=dff[f\"dr_active_{region}\"], mode='lines', name=\"DR activé\"))\n",
    "    fig4.update_layout(title=f\"Demande effaçable - {region}\")\n",
    "    fig4.show()\n",
    "\n",
    "    # Slacks\n",
    "    fig5 = go.Figure()\n",
    "    fig5.add_trace(go.Scatter(x=dff.index, y=dff[f\"slack_pos_{region}\"], mode='lines', name=\"Slack +\"))\n",
    "    fig5.add_trace(go.Scatter(x=dff.index, y=dff[f\"slack_neg_{region}\"], mode='lines', name=\"Slack -\"))\n",
    "    fig5.update_layout(title=f\"Slack positif/négatif - {region}\")\n",
    "    fig5.show()\n",
    "\n",
    "    # Prix nodal\n",
    "    fig6 = px.line(dff, y=[f\"nodal_price_{region}\"], title=f\"Prix nodal - {region}\")\n",
    "    fig6.show()\n",
    "\n",
    "    # Flux interrégionaux (positifs, négatifs, nets)\n",
    "    flow_cols = [col for col in df.columns if col.startswith(\"flow_out_\") and region in col]\n",
    "    fig7 = go.Figure()\n",
    "    for col in flow_cols:\n",
    "        fig7.add_trace(go.Scatter(x=dff.index, y=dff[col], mode='lines', name=col.replace(\"flow_out_\", \"\")))\n",
    "    fig7.update_layout(title=f\"Flux sortants de la région {region} vers les autres\")\n",
    "    fig7.show()\n",
    "\n",
    "    incoming_cols = [col for col in df.columns if col.startswith(\"flow_out_\") and col.endswith(region)]\n",
    "    fig8 = go.Figure()\n",
    "    for col in incoming_cols:\n",
    "        fig8.add_trace(go.Scatter(x=dff.index, y=dff[col], mode='lines', name=col.replace(\"flow_out_\", \"\")))\n",
    "    fig8.update_layout(title=f\"Flux entrants vers la région {region}\")\n",
    "    fig8.show()\n",
    "\n",
    "    dff['flow_net'] = dff[incoming_cols].sum(axis=1) - dff[flow_cols].sum(axis=1)\n",
    "    fig9 = px.line(dff, y='flow_net', title=f\"Flux net pour la région {region} (positif = import net)\")\n",
    "    fig9.show()\n",
    "\n",
    "    # Sankey diagram des flux interrégionaux moyens\n",
    "    flows = [col for col in df.columns if col.startswith(\"flow_out_\")]\n",
    "    mean_flows = dff[flows].mean().reset_index()\n",
    "    mean_flows.columns = ['flow', 'value']\n",
    "    mean_flows = mean_flows[mean_flows['value'] > 0]\n",
    "\n",
    "    def parse_flow(s):\n",
    "        parts = s.replace(\"flow_out_\", \"\").split(\"_\")\n",
    "        source = \"_\".join(parts[:-1])\n",
    "        target = parts[-1]\n",
    "        return source, target\n",
    "\n",
    "    mean_flows[['source', 'target']] = mean_flows['flow'].apply(lambda x: pd.Series(parse_flow(x)))\n",
    "    all_regions = list(set(mean_flows['source']).union(set(mean_flows['target'])))\n",
    "    region_to_index = {region: i for i, region in enumerate(all_regions)}\n",
    "\n",
    "    sankey_data = dict(\n",
    "        type='sankey',\n",
    "        node=dict(\n",
    "            pad=15,\n",
    "            thickness=20,\n",
    "            line=dict(color='black', width=0.5),\n",
    "            label=all_regions\n",
    "        ),\n",
    "        link=dict(\n",
    "            source=[region_to_index[src] for src in mean_flows['source']],\n",
    "            target=[region_to_index[tgt] for tgt in mean_flows['target']],\n",
    "            value=mean_flows['value'].round(2)\n",
    "        )\n",
    "    )\n",
    "\n",
    "    fig10 = go.Figure(data=[sankey_data])\n",
    "    fig10.update_layout(title_text=f\"Diagramme de Sankey des flux interrégionaux moyens ({start.date()} à {end.date()})\", font_size=10)\n",
    "    fig10.show()\n",
    "\n",
    "# Lier les widgets à la fonction\n",
    "widgets.interactive_output(plot_all, {\"date_range\": date_range, \"region\": region_selector})\n"
   ]
  },
  {
   "cell_type": "code",
   "execution_count": null,
   "id": "62f3ae12",
   "metadata": {},
   "outputs": [],
   "source": []
  }
 ],
 "metadata": {
  "kernelspec": {
   "display_name": "regionalflex",
   "language": "python",
   "name": "python3"
  },
  "language_info": {
   "codemirror_mode": {
    "name": "ipython",
    "version": 3
   },
   "file_extension": ".py",
   "mimetype": "text/x-python",
   "name": "python",
   "nbconvert_exporter": "python",
   "pygments_lexer": "ipython3",
   "version": "3.10.17"
  }
 },
 "nbformat": 4,
 "nbformat_minor": 5
}
